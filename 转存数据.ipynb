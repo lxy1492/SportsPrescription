{
 "cells": [
  {
   "cell_type": "code",
   "execution_count": 1,
   "metadata": {},
   "outputs": [],
   "source": [
    "import os,json,pickle"
   ]
  },
  {
   "cell_type": "code",
   "execution_count": 2,
   "metadata": {},
   "outputs": [],
   "source": [
    "from Moudle.sportMoudle import Sport"
   ]
  },
  {
   "cell_type": "code",
   "execution_count": 3,
   "metadata": {},
   "outputs": [],
   "source": [
    "fileListDIR = \"./DataBase/Sports/\""
   ]
  },
  {
   "cell_type": "code",
   "execution_count": 4,
   "metadata": {},
   "outputs": [],
   "source": [
    "fileList = []\n",
    "for each in os.listdir(fileListDIR):\n",
    "    if \".tbs\" in each:\n",
    "        if each.split(\".\")[-1] == \"tbs\":\n",
    "            fileList.append(each)"
   ]
  },
  {
   "cell_type": "code",
   "execution_count": 5,
   "metadata": {},
   "outputs": [],
   "source": [
    "sports = []\n",
    "for each in fileList:\n",
    "    path = os.path.join(fileListDIR,each).replace(\"\\\\\",\"/\")\n",
    "    with open(path,\"rb\") as f:\n",
    "        sports.append(pickle.loads(f.read()))"
   ]
  },
  {
   "cell_type": "code",
   "execution_count": 4,
   "metadata": {},
   "outputs": [],
   "source": [
    "DictDIR = os.path.join(fileListDIR,\"Dict\")"
   ]
  },
  {
   "cell_type": "code",
   "execution_count": 7,
   "metadata": {},
   "outputs": [],
   "source": [
    "\n",
    "if not os.path.exists(DictDIR):\n",
    "    os.makedirs(DictDIR)\n",
    "for each in sports:\n",
    "    d = each.Dict\n",
    "    fileName = each.name+\".json\"\n",
    "    with open(os.path.join(DictDIR,fileName).replace(\"\\\\\",\"/\"),\"w\") as f:\n",
    "        f.write(json.dumps(d))"
   ]
  },
  {
   "cell_type": "code",
   "execution_count": 5,
   "metadata": {},
   "outputs": [],
   "source": [
    "newSports = []\n",
    "Dict = []\n",
    "for each in os.listdir(DictDIR):\n",
    "    if \".json\" in each:\n",
    "        if each.split(\".\")[-1] == \"json\":\n",
    "            with open(os.path.join(DictDIR,each).replace(\"\\\\\",\"/\"),\"r\") as f:\n",
    "                d = f.read()\n",
    "            d = json.loads(d)\n",
    "            Dict.append(d)\n",
    "            s = Sport(name=d[\"name\"])\n",
    "            for eachKey in d:\n",
    "                s.__dict__[eachKey]=d[eachKey]\n",
    "            newSports.append(s)"
   ]
  },
  {
   "cell_type": "code",
   "execution_count": 14,
   "metadata": {},
   "outputs": [
    {
     "name": "stdout",
     "output_type": "stream",
     "text": [
      "{'name': 'Vinyasa', 'sportsTime': '1x45\"', 'image': './DataBase/sportsImage/Vinyasa.jpg', 'belong': ['灵动无界', '瑜伽 · 平衡提升'], 'saveDIR': './DataBase/Sports/', 'difficulty': None, 'detail': {'要点': 'vinyasa是一个用来过渡的体式序列，由「平板式」、「八支式」、「上犬式」、「下犬式」组成吸气，膝盖落地，呼气，胸腔和下巴落地，八支式吸气，上半身向前向上推起，上犬式呼气，臀部向上，双手推地，下犬式', '细节图示': './DataBase/sportsImage/Vinyasa.jpg'}, 'effect': ['减脂瘦身', '增肌', '增强力量'], 'target': ['胸部', '手臂'], 'equipment': [], 'site': None}\n",
      "{'name': 'Vinyasa', 'sportsTime': '1x45\"', 'image': './DataBase/sportsImage/Vinyasa.jpg', 'belong': ['灵动无界', '瑜伽 · 平衡提升'], 'saveDIR': './DataBase/Sports/', 'difficulty': None, 'detail': {'要点': 'vinyasa是一个用来过渡的体式序列，由「平板式」、「八支式」、「上犬式」、「下犬式」组成吸气，膝盖落地，呼气，胸腔和下巴落地，八支式吸气，上半身向前向上推起，上犬式呼气，臀部向上，双手推地，下犬式', '细节图示': './DataBase/sportsImage/Vinyasa.jpg'}, 'effect': ['减脂瘦身', '增肌', '增强力量'], 'target': ['胸部', '手臂'], 'equipment': [], 'site': None}\n"
     ]
    }
   ],
   "source": [
    "print(sports[2].__dict__)\n",
    "print(newSports[2].__dict__)"
   ]
  },
  {
   "cell_type": "code",
   "execution_count": 15,
   "metadata": {},
   "outputs": [
    {
     "name": "stdout",
     "output_type": "stream",
     "text": [
      "True\n"
     ]
    }
   ],
   "source": [
    "print(sports[2].__dict__==newSports[2].__dict__)"
   ]
  },
  {
   "cell_type": "code",
   "execution_count": 6,
   "metadata": {},
   "outputs": [],
   "source": [
    "for each in newSports:\n",
    "    each.save()"
   ]
  },
  {
   "cell_type": "code",
   "execution_count": 7,
   "metadata": {},
   "outputs": [],
   "source": [
    "for each in newSports:\n",
    "    if isinstance(each,Sport):\n",
    "        if each.sportType==None:\n",
    "            if \"瑜伽\" in each.name:\n",
    "                each.setSportType(\"柔韧\")\n",
    "            elif \"力量\" in each.name:\n",
    "                each.setSportType(\"力量\")\n",
    "            elif \"脂\" in each.name:\n",
    "                each.setSportType(\"有氧\")\n",
    "            each.save()"
   ]
  },
  {
   "cell_type": "code",
   "execution_count": null,
   "metadata": {},
   "outputs": [],
   "source": []
  }
 ],
 "metadata": {
  "kernelspec": {
   "display_name": "Python 3",
   "language": "python",
   "name": "python3"
  },
  "language_info": {
   "codemirror_mode": {
    "name": "ipython",
    "version": 3
   },
   "file_extension": ".py",
   "mimetype": "text/x-python",
   "name": "python",
   "nbconvert_exporter": "python",
   "pygments_lexer": "ipython3",
   "version": "3.6.5"
  }
 },
 "nbformat": 4,
 "nbformat_minor": 2
}
